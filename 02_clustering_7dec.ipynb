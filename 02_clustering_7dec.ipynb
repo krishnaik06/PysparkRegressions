{
 "cells": [
  {
   "cell_type": "code",
   "execution_count": 3,
   "metadata": {},
   "outputs": [],
   "source": [
    "from pyspark import SparkContext, SparkConf\n",
    "from pyspark.sql import SparkSession\n",
    "import matplotlib.pyplot as plt\n",
    "import numpy as np\n",
    "from pyspark.ml.feature import StringIndexer, VectorAssembler, StandardScaler\n",
    "from pyspark.ml.clustering import KMeans\n",
    "from pyspark.ml import Pipeline\n",
    "\n",
    "from pyspark.sql.functions import lit ,when\n",
    "from pyspark.sql.types import IntegerType"
   ]
  },
  {
   "cell_type": "code",
   "execution_count": 5,
   "metadata": {},
   "outputs": [],
   "source": [
    "spark = SparkSession.builder \\\n",
    "        .master('local[*]') \\\n",
    "        .appName('first_spark_application') \\\n",
    "        .getOrCreate() #if there is a active session it will get or create one"
   ]
  },
  {
   "cell_type": "raw",
   "metadata": {},
   "source": [
    "conf = SparkConf().setAppName(\"pre-processing\").setMaster(\"local[*]\")\n",
    "sc = SparkContext(conf=conf)"
   ]
  },
  {
   "cell_type": "raw",
   "metadata": {},
   "source": [
    "rdd = sc.textFile(\"train.csv\")\n",
    "\n",
    "print(rdd.count())\n",
    "print(rdd.take(2))"
   ]
  },
  {
   "cell_type": "raw",
   "metadata": {},
   "source": [
    "rdd_tuples = rdd.map(lambda l: l.split(','))\n",
    "header = rdd_tuples.take(1)\n",
    "print(rdd_tuples.take(2))\n",
    "print(header)"
   ]
  },
  {
   "cell_type": "code",
   "execution_count": 6,
   "metadata": {},
   "outputs": [],
   "source": [
    "health = spark.read.csv('train.csv', header=True, inferSchema=True)\n",
    "target = health.select('Response')"
   ]
  },
  {
   "cell_type": "code",
   "execution_count": 7,
   "metadata": {},
   "outputs": [
    {
     "name": "stdout",
     "output_type": "stream",
     "text": [
      "+-----------+------+\n",
      "|Vehicle_Age| count|\n",
      "+-----------+------+\n",
      "|   < 1 Year|164786|\n",
      "|       null|381109|\n",
      "|  > 2 Years| 16007|\n",
      "|   1-2 Year|200316|\n",
      "+-----------+------+\n",
      "\n"
     ]
    }
   ],
   "source": [
    "health.cube(\"Vehicle_Age\").count().show()"
   ]
  },
  {
   "cell_type": "code",
   "execution_count": 8,
   "metadata": {},
   "outputs": [
    {
     "data": {
      "text/plain": [
       "381109"
      ]
     },
     "execution_count": 8,
     "metadata": {},
     "output_type": "execute_result"
    }
   ],
   "source": [
    "200316 + 16007 + 164786"
   ]
  },
  {
   "cell_type": "code",
   "execution_count": 9,
   "metadata": {},
   "outputs": [],
   "source": [
    "# Indexing categorical data\n",
    "#indexer1 = StringIndexer(inputCol='Vehicle_Age',\n",
    "#outputCol='Vehicle_Age_idx')"
   ]
  },
  {
   "cell_type": "code",
   "execution_count": 10,
   "metadata": {},
   "outputs": [],
   "source": [
    "health = health.withColumn('Vehicle_Age', when(health.Vehicle_Age == '< 1 Year', lit(1)).otherwise(health.Vehicle_Age))\n",
    "health = health.withColumn('Vehicle_Age', when(health.Vehicle_Age == '1-2 Year', lit(2)).otherwise(health.Vehicle_Age))\n",
    "health = health.withColumn('Vehicle_Age', when(health.Vehicle_Age == '> 2 Years', lit(3)).otherwise(health.Vehicle_Age))\n",
    "health = health.withColumn('Vehicle_Age', health['Vehicle_Age'].cast(IntegerType()))\n",
    "\n",
    "indexer2 = StringIndexer(inputCol='Gender',\n",
    "outputCol='Gender_idx')\n",
    "\n",
    "indexer3 = StringIndexer(inputCol='Vehicle_Damage',\n",
    "outputCol='Vehicle_Damage_idx')\n",
    "\n",
    "\n",
    "# now we need to combine all the features in a single list\n",
    "# we are doing this because pyspark.ml what all the features in a list\n",
    "\n",
    "\"\"\"\n",
    "['Age', 'Driving_License', \n",
    "'Region_Code', 'Previously_Insured', \n",
    "'Annual_Premium', \n",
    "'Policy_Sales_Channel', 'Vintage', \n",
    "'Vehicle_Age_idx', 'Gender_idx','Vehicle_Damage_idx']\n",
    "\"\"\"\n",
    "\n",
    "assembler = VectorAssembler(inputCols=['Vehicle_Age', 'Previously_Insured', 'Vehicle_Damage_idx'],\n",
    "                            outputCol='features')\n",
    "\n",
    "pipeline = Pipeline(stages=[indexer2, indexer3, assembler])"
   ]
  },
  {
   "cell_type": "code",
   "execution_count": 11,
   "metadata": {},
   "outputs": [
    {
     "data": {
      "text/plain": [
       "DataFrame[id: int, Gender: string, Age: int, Driving_License: int, Region_Code: double, Previously_Insured: int, Vehicle_Age: int, Vehicle_Damage: string, Annual_Premium: double, Policy_Sales_Channel: double, Vintage: int, Response: int]"
      ]
     },
     "execution_count": 11,
     "metadata": {},
     "output_type": "execute_result"
    }
   ],
   "source": [
    "health"
   ]
  },
  {
   "cell_type": "code",
   "execution_count": 12,
   "metadata": {},
   "outputs": [],
   "source": [
    "# using pipeline to prepare data for models \n",
    "healthe = pipeline.fit(health).transform(health)"
   ]
  },
  {
   "cell_type": "code",
   "execution_count": 13,
   "metadata": {},
   "outputs": [
    {
     "data": {
      "text/plain": [
       "DataFrame[id: int, Gender: string, Age: int, Driving_License: int, Region_Code: double, Previously_Insured: int, Vehicle_Age: int, Vehicle_Damage: string, Annual_Premium: double, Policy_Sales_Channel: double, Vintage: int, Response: int, Gender_idx: double, Vehicle_Damage_idx: double, features: vector]"
      ]
     },
     "execution_count": 13,
     "metadata": {},
     "output_type": "execute_result"
    }
   ],
   "source": [
    "healthe"
   ]
  },
  {
   "cell_type": "code",
   "execution_count": 14,
   "metadata": {},
   "outputs": [],
   "source": [
    "# making the column names as pyspark wants\n",
    "health_ml = healthe.select(['features','Response']).withColumnRenamed('Response', 'label')"
   ]
  },
  {
   "cell_type": "code",
   "execution_count": 15,
   "metadata": {},
   "outputs": [
    {
     "name": "stdout",
     "output_type": "stream",
     "text": [
      "+-------------+-----+\n",
      "|     features|label|\n",
      "+-------------+-----+\n",
      "|[3.0,0.0,0.0]|    1|\n",
      "|[2.0,0.0,1.0]|    0|\n",
      "+-------------+-----+\n",
      "only showing top 2 rows\n",
      "\n"
     ]
    }
   ],
   "source": [
    "health_ml.show(2)"
   ]
  },
  {
   "cell_type": "code",
   "execution_count": 16,
   "metadata": {},
   "outputs": [],
   "source": [
    "sScaler = StandardScaler(\n",
    "    withMean=True, withStd=True, inputCol=\"features\", outputCol=\"features_scc\"\n",
    "        )"
   ]
  },
  {
   "cell_type": "code",
   "execution_count": 17,
   "metadata": {},
   "outputs": [
    {
     "name": "stdout",
     "output_type": "stream",
     "text": [
      "[1.6096156217774913,0.4582101183650871,0.4951234423747537]\n",
      "[0.5674394019819508,0.49825119888722635,0.4999768745705744]\n"
     ]
    }
   ],
   "source": [
    "# using standard scaler to scale data \n",
    "sScaler_model = sScaler.fit(health_ml)\n",
    "health_ml = sScaler_model.transform(health_ml)\n",
    "print(sScaler_model.mean)\n",
    "print(sScaler_model.std)"
   ]
  },
  {
   "cell_type": "code",
   "execution_count": 18,
   "metadata": {},
   "outputs": [
    {
     "name": "stdout",
     "output_type": "stream",
     "text": [
      "+-------------+-----+--------------------+\n",
      "|     features|label|        features_scc|\n",
      "+-------------+-----+--------------------+\n",
      "|[3.0,0.0,0.0]|    1|[2.45027816779409...|\n",
      "|[2.0,0.0,1.0]|    0|[0.68797545052207...|\n",
      "|[3.0,0.0,0.0]|    1|[2.45027816779409...|\n",
      "|[1.0,1.0,1.0]|    0|[-1.0743272667499...|\n",
      "|[1.0,1.0,1.0]|    0|[-1.0743272667499...|\n",
      "+-------------+-----+--------------------+\n",
      "only showing top 5 rows\n",
      "\n"
     ]
    }
   ],
   "source": [
    "health_ml.show(5)"
   ]
  },
  {
   "cell_type": "code",
   "execution_count": 19,
   "metadata": {
    "scrolled": true
   },
   "outputs": [
    {
     "name": "stdout",
     "output_type": "stream",
     "text": [
      "+-----+--------------------+\n",
      "|label|            features|\n",
      "+-----+--------------------+\n",
      "|    1|[2.45027816779409...|\n",
      "|    0|[0.68797545052207...|\n",
      "|    1|[2.45027816779409...|\n",
      "|    0|[-1.0743272667499...|\n",
      "|    0|[-1.0743272667499...|\n",
      "+-----+--------------------+\n",
      "only showing top 5 rows\n",
      "\n"
     ]
    }
   ],
   "source": [
    "health_ml = health_ml.drop('features').withColumnRenamed('features_scc', 'features')\n",
    "health_ml.show(5)"
   ]
  },
  {
   "cell_type": "code",
   "execution_count": 20,
   "metadata": {},
   "outputs": [
    {
     "name": "stdout",
     "output_type": "stream",
     "text": [
      "K: 2 ; SSE = 427417.07629837014\n",
      "K: 3 ; SSE = 283901.9770834566\n",
      "K: 4 ; SSE = 163909.4914293357\n",
      "K: 5 ; SSE = 99539.20570293211\n",
      "K: 6 ; SSE = 70088.63625198336\n",
      "K: 7 ; SSE = 51500.21403226816\n",
      "K: 8 ; SSE = 7589.814407601991\n",
      "K: 9 ; SSE = 7589.814407601993\n",
      "K: 10 ; SSE = 7589.814407601992\n",
      "K: 11 ; SSE = 166.89435365687103\n",
      "K: 12 ; SSE = 166.89435365687103\n",
      "K: 13 ; SSE = 166.89435365687106\n",
      "K: 14 ; SSE = 166.89435365687103\n",
      "K: 15 ; SSE = 166.89435365687103\n"
     ]
    }
   ],
   "source": [
    "# find the best K (lower training cost)\n",
    "Ks = []\n",
    "costs = []\n",
    "for k in range(2, 16):\n",
    "    kmeans = KMeans(k=k, distanceMeasure='euclidean',\n",
    "                featuresCol='features', maxIter=100, seed=10)\n",
    "    model = kmeans.fit(health_ml)\n",
    "    cost =  model.computeCost(health_ml)\n",
    "    print(\"K: {} ; SSE = {}\".format(k, cost))\n",
    "    Ks.append(k)\n",
    "    costs.append(cost)"
   ]
  },
  {
   "cell_type": "code",
   "execution_count": 21,
   "metadata": {},
   "outputs": [
    {
     "data": {
      "image/png": "[encoded data removed]",
      "text/plain": [
       "<Figure size 432x288 with 1 Axes>"
      ]
     },
     "metadata": {
      "needs_background": "light"
     },
     "output_type": "display_data"
    }
   ],
   "source": [
    "import matplotlib.pyplot as plt\n",
    "\n",
    "plt.plot(Ks, costs)\n",
    "plt.show()"
   ]
  },
  {
   "cell_type": "code",
   "execution_count": 22,
   "metadata": {},
   "outputs": [
    {
     "data": {
      "text/plain": [
       "KMeans_61a059b5d095"
      ]
     },
     "execution_count": 22,
     "metadata": {},
     "output_type": "execute_result"
    }
   ],
   "source": [
    "kmeans = KMeans(k=8, distanceMeasure='euclidean',\n",
    "                featuresCol='features', maxIter=100, seed=10)\n",
    "#kmeans.setWeightCol(\"weighCol\") don't understand what this parameter means\n",
    "kmeans"
   ]
  },
  {
   "cell_type": "code",
   "execution_count": 23,
   "metadata": {},
   "outputs": [
    {
     "data": {
      "text/plain": [
       "7589.814407601991"
      ]
     },
     "execution_count": 23,
     "metadata": {},
     "output_type": "execute_result"
    }
   ],
   "source": [
    "model = kmeans.fit(health_ml)\n",
    "#model.save('kmeans')\n",
    "model.computeCost(health_ml)"
   ]
  },
  {
   "cell_type": "code",
   "execution_count": 24,
   "metadata": {},
   "outputs": [
    {
     "name": "stdout",
     "output_type": "stream",
     "text": [
      "8\n",
      "[122328, 105271, 59435, 11319, 44210, 12671, 9883, 15992]\n"
     ]
    }
   ],
   "source": [
    "summary = model.summary\n",
    "print(summary.k)\n",
    "print(summary.clusterSizes)"
   ]
  },
  {
   "cell_type": "code",
   "execution_count": 25,
   "metadata": {},
   "outputs": [
    {
     "data": {
      "text/plain": [
       "[array([ 0.68797545, -0.91963676, -0.99029269]),\n",
       " array([-1.07432727,  1.087383  ,  1.00979982]),\n",
       " array([0.68818301, 1.087383  , 1.00979982]),\n",
       " array([-1.07432727, -0.91963676,  1.00979982]),\n",
       " array([-1.07432727, -0.91963676, -0.99029269]),\n",
       " array([ 0.6890881 , -0.91963676,  1.00979982]),\n",
       " array([-0.02279442,  1.087383  , -0.99029269]),\n",
       " array([ 2.45027817, -0.9147422 , -0.99029269])]"
      ]
     },
     "execution_count": 25,
     "metadata": {},
     "output_type": "execute_result"
    }
   ],
   "source": [
    "model.clusterCenters()"
   ]
  },
  {
   "cell_type": "code",
   "execution_count": 26,
   "metadata": {},
   "outputs": [
    {
     "name": "stdout",
     "output_type": "stream",
     "text": [
      "[1.6096156217774913,0.4582101183650871,0.4951234423747537]\n",
      "[0.5674394019819508,0.49825119888722635,0.4999768745705744]\n"
     ]
    }
   ],
   "source": [
    "print(sScaler_model.mean)\n",
    "print(sScaler_model.std)"
   ]
  },
  {
   "cell_type": "code",
   "execution_count": 27,
   "metadata": {},
   "outputs": [
    {
     "data": {
      "text/plain": [
       "[[2, 0, 0],\n",
       " [1, 1, 1],\n",
       " [2, 1, 1],\n",
       " [1, 0, 1],\n",
       " [1, 0, 0],\n",
       " [2, 0, 1],\n",
       " [2, 1, 0],\n",
       " [3, 0, 0]]"
      ]
     },
     "execution_count": 27,
     "metadata": {},
     "output_type": "execute_result"
    }
   ],
   "source": [
    "cluster_centers = []\n",
    "\n",
    "for r, clu in enumerate(model.clusterCenters()):\n",
    "    transformed_attributes = []\n",
    "    for c, attr in enumerate(clu):\n",
    "        #print(\"{} + ({} * {}) =\".format(sScaler_model.mean[c], attr, sScaler_model.std[c]), end= \" \")\n",
    "        #print(sScaler_model.mean[c] + (attr * sScaler_model.std[c]))\n",
    "        transformed_attributes.append(round(sScaler_model.mean[c] + (attr * sScaler_model.std[c])))\n",
    "    #print()\n",
    "    cluster_centers.append(transformed_attributes)\n",
    "cluster_centers"
   ]
  },
  {
   "cell_type": "code",
   "execution_count": 28,
   "metadata": {},
   "outputs": [],
   "source": [
    "transformed = model.transform(health_ml).select('features', 'prediction')"
   ]
  },
  {
   "cell_type": "code",
   "execution_count": 29,
   "metadata": {},
   "outputs": [
    {
     "name": "stdout",
     "output_type": "stream",
     "text": [
      "+--------------------+----------+\n",
      "|            features|prediction|\n",
      "+--------------------+----------+\n",
      "|[2.45027816779409...|         7|\n",
      "+--------------------+----------+\n",
      "only showing top 1 row\n",
      "\n"
     ]
    }
   ],
   "source": [
    "transformed.show()"
   ]
  },
  {
   "cell_type": "code",
   "execution_count": 45,
   "metadata": {},
   "outputs": [
    {
     "name": "stdout",
     "output_type": "stream",
     "text": [
      "+----------+\n",
      "|prediction|\n",
      "+----------+\n",
      "|         7|\n",
      "|         5|\n",
      "|         7|\n",
      "|         1|\n",
      "|         1|\n",
      "|         4|\n",
      "|         4|\n",
      "|         0|\n",
      "|         1|\n",
      "|         1|\n",
      "|         0|\n",
      "|         1|\n",
      "|         2|\n",
      "|         0|\n",
      "|         2|\n",
      "|         0|\n",
      "|         4|\n",
      "|         1|\n",
      "|         0|\n",
      "|         0|\n",
      "+----------+\n",
      "only showing top 20 rows\n",
      "\n"
     ]
    }
   ],
   "source": [
    "transformed.select('prediction').show()"
   ]
  },
  {
   "cell_type": "code",
   "execution_count": 51,
   "metadata": {},
   "outputs": [],
   "source": [
    "from pyspark.sql.functions import col"
   ]
  },
  {
   "cell_type": "code",
   "execution_count": 53,
   "metadata": {},
   "outputs": [
    {
     "data": {
      "text/plain": [
       "Column<b'prediction'>"
      ]
     },
     "execution_count": 53,
     "metadata": {},
     "output_type": "execute_result"
    }
   ],
   "source": [
    "col('prediction')"
   ]
  },
  {
   "cell_type": "code",
   "execution_count": 62,
   "metadata": {},
   "outputs": [
    {
     "ename": "TypeError",
     "evalue": "withColumnRenamed() missing 1 required positional argument: 'new'",
     "output_type": "error",
     "traceback": [
      "\u001b[0;31m---------------------------------------------------------------------------\u001b[0m",
      "\u001b[0;31mTypeError\u001b[0m                                 Traceback (most recent call last)",
      "\u001b[0;32m<ipython-input-62-f19e033892bc>\u001b[0m in \u001b[0;36m<module>\u001b[0;34m\u001b[0m\n\u001b[0;32m----> 1\u001b[0;31m \u001b[0mhealth_cl\u001b[0m \u001b[0;34m=\u001b[0m \u001b[0mtransformed\u001b[0m\u001b[0;34m.\u001b[0m\u001b[0mselect\u001b[0m\u001b[0;34m(\u001b[0m\u001b[0;34m[\u001b[0m\u001b[0;34m'prediction'\u001b[0m\u001b[0;34m]\u001b[0m\u001b[0;34m)\u001b[0m\u001b[0;34m.\u001b[0m\u001b[0mwithColumnRenamed\u001b[0m\u001b[0;34m(\u001b[0m\u001b[0;34m'cluster'\u001b[0m\u001b[0;34m)\u001b[0m\u001b[0;34m\u001b[0m\u001b[0;34m\u001b[0m\u001b[0m\n\u001b[0m\u001b[1;32m      2\u001b[0m \u001b[0mhealth_cl\u001b[0m\u001b[0;34m.\u001b[0m\u001b[0mshow\u001b[0m\u001b[0;34m(\u001b[0m\u001b[0;34m)\u001b[0m\u001b[0;34m\u001b[0m\u001b[0;34m\u001b[0m\u001b[0m\n",
      "\u001b[0;31mTypeError\u001b[0m: withColumnRenamed() missing 1 required positional argument: 'new'"
     ]
    }
   ],
   "source": [
    "health_cl = transformed.select(['prediction']).withColumnRenamed('cluster')\n",
    "health_cl.show()"
   ]
  },
  {
   "cell_type": "code",
   "execution_count": null,
   "metadata": {},
   "outputs": [],
   "source": [
    "transformed.groupBy('prediction').count().collect()"
   ]
  },
  {
   "cell_type": "code",
   "execution_count": null,
   "metadata": {},
   "outputs": [],
   "source": [
    "transformed.head()"
   ]
  },
  {
   "cell_type": "code",
   "execution_count": null,
   "metadata": {},
   "outputs": [],
   "source": [
    "# separate the dataframe based on cluster label\n",
    "predictions = transformed.select(\"prediction\").distinct().collect()"
   ]
  },
  {
   "cell_type": "code",
   "execution_count": null,
   "metadata": {},
   "outputs": [],
   "source": [
    "clusters = {}\n",
    "for pred in predictions:\n",
    "    clusters[pred.prediction] = transformed.where(transformed[\"prediction\"] == pred.prediction)\n",
    "    clusters[pred.prediction].toPandas().to_csv('train_cluster_{}.csv'.format(pred.prediction))"
   ]
  },
  {
   "cell_type": "code",
   "execution_count": null,
   "metadata": {},
   "outputs": [],
   "source": [
    "clusters[1]"
   ]
  },
  {
   "cell_type": "code",
   "execution_count": null,
   "metadata": {},
   "outputs": [],
   "source": []
  },
  {
   "cell_type": "code",
   "execution_count": null,
   "metadata": {},
   "outputs": [],
   "source": []
  }
 ],
 "metadata": {
  "hide_input": false,
  "kernelspec": {
   "display_name": "Python 3",
   "language": "python",
   "name": "python3"
  },
  "language_info": {
   "codemirror_mode": {
    "name": "ipython",
    "version": 3
   },
   "file_extension": ".py",
   "mimetype": "text/x-python",
   "name": "python",
   "nbconvert_exporter": "python",
   "pygments_lexer": "ipython3",
   "version": "3.8.5"
  }
 },
 "nbformat": 4,
 "nbformat_minor": 4
}
