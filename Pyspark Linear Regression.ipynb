{
 "cells": [
  {
   "cell_type": "code",
   "execution_count": 1,
   "metadata": {
    "cell_style": "center"
   },
   "outputs": [
    {
     "ename": "Exception",
     "evalue": "Java gateway process exited before sending its port number",
     "output_type": "error",
     "traceback": [
      "\u001b[0;31m---------------------------------------------------------------------------\u001b[0m",
      "\u001b[0;31mException\u001b[0m                                 Traceback (most recent call last)",
      "\u001b[0;32m<ipython-input-1-d37637c47dde>\u001b[0m in \u001b[0;36m<module>\u001b[0;34m\u001b[0m\n\u001b[1;32m      1\u001b[0m \u001b[0;32mfrom\u001b[0m \u001b[0mpyspark\u001b[0m\u001b[0;34m.\u001b[0m\u001b[0msql\u001b[0m \u001b[0;32mimport\u001b[0m \u001b[0mSparkSession\u001b[0m\u001b[0;34m\u001b[0m\u001b[0;34m\u001b[0m\u001b[0m\n\u001b[0;32m----> 2\u001b[0;31m \u001b[0mspark\u001b[0m\u001b[0;34m=\u001b[0m \u001b[0mSparkSession\u001b[0m\u001b[0;34m.\u001b[0m\u001b[0mbuilder\u001b[0m\u001b[0;34m.\u001b[0m\u001b[0mappName\u001b[0m\u001b[0;34m(\u001b[0m\u001b[0;34m'Customers'\u001b[0m\u001b[0;34m)\u001b[0m\u001b[0;34m.\u001b[0m\u001b[0mgetOrCreate\u001b[0m\u001b[0;34m(\u001b[0m\u001b[0;34m)\u001b[0m\u001b[0;34m\u001b[0m\u001b[0;34m\u001b[0m\u001b[0m\n\u001b[0m",
      "\u001b[0;32m~/opt/anaconda3/lib/python3.7/site-packages/pyspark/sql/session.py\u001b[0m in \u001b[0;36mgetOrCreate\u001b[0;34m(self)\u001b[0m\n\u001b[1;32m    171\u001b[0m                     \u001b[0;32mfor\u001b[0m \u001b[0mkey\u001b[0m\u001b[0;34m,\u001b[0m \u001b[0mvalue\u001b[0m \u001b[0;32min\u001b[0m \u001b[0mself\u001b[0m\u001b[0;34m.\u001b[0m\u001b[0m_options\u001b[0m\u001b[0;34m.\u001b[0m\u001b[0mitems\u001b[0m\u001b[0;34m(\u001b[0m\u001b[0;34m)\u001b[0m\u001b[0;34m:\u001b[0m\u001b[0;34m\u001b[0m\u001b[0;34m\u001b[0m\u001b[0m\n\u001b[1;32m    172\u001b[0m                         \u001b[0msparkConf\u001b[0m\u001b[0;34m.\u001b[0m\u001b[0mset\u001b[0m\u001b[0;34m(\u001b[0m\u001b[0mkey\u001b[0m\u001b[0;34m,\u001b[0m \u001b[0mvalue\u001b[0m\u001b[0;34m)\u001b[0m\u001b[0;34m\u001b[0m\u001b[0;34m\u001b[0m\u001b[0m\n\u001b[0;32m--> 173\u001b[0;31m                     \u001b[0msc\u001b[0m \u001b[0;34m=\u001b[0m \u001b[0mSparkContext\u001b[0m\u001b[0;34m.\u001b[0m\u001b[0mgetOrCreate\u001b[0m\u001b[0;34m(\u001b[0m\u001b[0msparkConf\u001b[0m\u001b[0;34m)\u001b[0m\u001b[0;34m\u001b[0m\u001b[0;34m\u001b[0m\u001b[0m\n\u001b[0m\u001b[1;32m    174\u001b[0m                     \u001b[0;31m# This SparkContext may be an existing one.\u001b[0m\u001b[0;34m\u001b[0m\u001b[0;34m\u001b[0m\u001b[0;34m\u001b[0m\u001b[0m\n\u001b[1;32m    175\u001b[0m                     \u001b[0;32mfor\u001b[0m \u001b[0mkey\u001b[0m\u001b[0;34m,\u001b[0m \u001b[0mvalue\u001b[0m \u001b[0;32min\u001b[0m \u001b[0mself\u001b[0m\u001b[0;34m.\u001b[0m\u001b[0m_options\u001b[0m\u001b[0;34m.\u001b[0m\u001b[0mitems\u001b[0m\u001b[0;34m(\u001b[0m\u001b[0;34m)\u001b[0m\u001b[0;34m:\u001b[0m\u001b[0;34m\u001b[0m\u001b[0;34m\u001b[0m\u001b[0m\n",
      "\u001b[0;32m~/opt/anaconda3/lib/python3.7/site-packages/pyspark/context.py\u001b[0m in \u001b[0;36mgetOrCreate\u001b[0;34m(cls, conf)\u001b[0m\n\u001b[1;32m    365\u001b[0m         \u001b[0;32mwith\u001b[0m \u001b[0mSparkContext\u001b[0m\u001b[0;34m.\u001b[0m\u001b[0m_lock\u001b[0m\u001b[0;34m:\u001b[0m\u001b[0;34m\u001b[0m\u001b[0;34m\u001b[0m\u001b[0m\n\u001b[1;32m    366\u001b[0m             \u001b[0;32mif\u001b[0m \u001b[0mSparkContext\u001b[0m\u001b[0;34m.\u001b[0m\u001b[0m_active_spark_context\u001b[0m \u001b[0;32mis\u001b[0m \u001b[0;32mNone\u001b[0m\u001b[0;34m:\u001b[0m\u001b[0;34m\u001b[0m\u001b[0;34m\u001b[0m\u001b[0m\n\u001b[0;32m--> 367\u001b[0;31m                 \u001b[0mSparkContext\u001b[0m\u001b[0;34m(\u001b[0m\u001b[0mconf\u001b[0m\u001b[0;34m=\u001b[0m\u001b[0mconf\u001b[0m \u001b[0;32mor\u001b[0m \u001b[0mSparkConf\u001b[0m\u001b[0;34m(\u001b[0m\u001b[0;34m)\u001b[0m\u001b[0;34m)\u001b[0m\u001b[0;34m\u001b[0m\u001b[0;34m\u001b[0m\u001b[0m\n\u001b[0m\u001b[1;32m    368\u001b[0m             \u001b[0;32mreturn\u001b[0m \u001b[0mSparkContext\u001b[0m\u001b[0;34m.\u001b[0m\u001b[0m_active_spark_context\u001b[0m\u001b[0;34m\u001b[0m\u001b[0;34m\u001b[0m\u001b[0m\n\u001b[1;32m    369\u001b[0m \u001b[0;34m\u001b[0m\u001b[0m\n",
      "\u001b[0;32m~/opt/anaconda3/lib/python3.7/site-packages/pyspark/context.py\u001b[0m in \u001b[0;36m__init__\u001b[0;34m(self, master, appName, sparkHome, pyFiles, environment, batchSize, serializer, conf, gateway, jsc, profiler_cls)\u001b[0m\n\u001b[1;32m    131\u001b[0m                     \" note this option will be removed in Spark 3.0\")\n\u001b[1;32m    132\u001b[0m \u001b[0;34m\u001b[0m\u001b[0m\n\u001b[0;32m--> 133\u001b[0;31m         \u001b[0mSparkContext\u001b[0m\u001b[0;34m.\u001b[0m\u001b[0m_ensure_initialized\u001b[0m\u001b[0;34m(\u001b[0m\u001b[0mself\u001b[0m\u001b[0;34m,\u001b[0m \u001b[0mgateway\u001b[0m\u001b[0;34m=\u001b[0m\u001b[0mgateway\u001b[0m\u001b[0;34m,\u001b[0m \u001b[0mconf\u001b[0m\u001b[0;34m=\u001b[0m\u001b[0mconf\u001b[0m\u001b[0;34m)\u001b[0m\u001b[0;34m\u001b[0m\u001b[0;34m\u001b[0m\u001b[0m\n\u001b[0m\u001b[1;32m    134\u001b[0m         \u001b[0;32mtry\u001b[0m\u001b[0;34m:\u001b[0m\u001b[0;34m\u001b[0m\u001b[0;34m\u001b[0m\u001b[0m\n\u001b[1;32m    135\u001b[0m             self._do_init(master, appName, sparkHome, pyFiles, environment, batchSize, serializer,\n",
      "\u001b[0;32m~/opt/anaconda3/lib/python3.7/site-packages/pyspark/context.py\u001b[0m in \u001b[0;36m_ensure_initialized\u001b[0;34m(cls, instance, gateway, conf)\u001b[0m\n\u001b[1;32m    314\u001b[0m         \u001b[0;32mwith\u001b[0m \u001b[0mSparkContext\u001b[0m\u001b[0;34m.\u001b[0m\u001b[0m_lock\u001b[0m\u001b[0;34m:\u001b[0m\u001b[0;34m\u001b[0m\u001b[0;34m\u001b[0m\u001b[0m\n\u001b[1;32m    315\u001b[0m             \u001b[0;32mif\u001b[0m \u001b[0;32mnot\u001b[0m \u001b[0mSparkContext\u001b[0m\u001b[0;34m.\u001b[0m\u001b[0m_gateway\u001b[0m\u001b[0;34m:\u001b[0m\u001b[0;34m\u001b[0m\u001b[0;34m\u001b[0m\u001b[0m\n\u001b[0;32m--> 316\u001b[0;31m                 \u001b[0mSparkContext\u001b[0m\u001b[0;34m.\u001b[0m\u001b[0m_gateway\u001b[0m \u001b[0;34m=\u001b[0m \u001b[0mgateway\u001b[0m \u001b[0;32mor\u001b[0m \u001b[0mlaunch_gateway\u001b[0m\u001b[0;34m(\u001b[0m\u001b[0mconf\u001b[0m\u001b[0;34m)\u001b[0m\u001b[0;34m\u001b[0m\u001b[0;34m\u001b[0m\u001b[0m\n\u001b[0m\u001b[1;32m    317\u001b[0m                 \u001b[0mSparkContext\u001b[0m\u001b[0;34m.\u001b[0m\u001b[0m_jvm\u001b[0m \u001b[0;34m=\u001b[0m \u001b[0mSparkContext\u001b[0m\u001b[0;34m.\u001b[0m\u001b[0m_gateway\u001b[0m\u001b[0;34m.\u001b[0m\u001b[0mjvm\u001b[0m\u001b[0;34m\u001b[0m\u001b[0;34m\u001b[0m\u001b[0m\n\u001b[1;32m    318\u001b[0m \u001b[0;34m\u001b[0m\u001b[0m\n",
      "\u001b[0;32m~/opt/anaconda3/lib/python3.7/site-packages/pyspark/java_gateway.py\u001b[0m in \u001b[0;36mlaunch_gateway\u001b[0;34m(conf)\u001b[0m\n\u001b[1;32m     44\u001b[0m     \u001b[0;34m:\u001b[0m\u001b[0;32mreturn\u001b[0m\u001b[0;34m:\u001b[0m \u001b[0ma\u001b[0m \u001b[0mJVM\u001b[0m \u001b[0mgateway\u001b[0m\u001b[0;34m\u001b[0m\u001b[0;34m\u001b[0m\u001b[0m\n\u001b[1;32m     45\u001b[0m     \"\"\"\n\u001b[0;32m---> 46\u001b[0;31m     \u001b[0;32mreturn\u001b[0m \u001b[0m_launch_gateway\u001b[0m\u001b[0;34m(\u001b[0m\u001b[0mconf\u001b[0m\u001b[0;34m)\u001b[0m\u001b[0;34m\u001b[0m\u001b[0;34m\u001b[0m\u001b[0m\n\u001b[0m\u001b[1;32m     47\u001b[0m \u001b[0;34m\u001b[0m\u001b[0m\n\u001b[1;32m     48\u001b[0m \u001b[0;34m\u001b[0m\u001b[0m\n",
      "\u001b[0;32m~/opt/anaconda3/lib/python3.7/site-packages/pyspark/java_gateway.py\u001b[0m in \u001b[0;36m_launch_gateway\u001b[0;34m(conf, insecure)\u001b[0m\n\u001b[1;32m    106\u001b[0m \u001b[0;34m\u001b[0m\u001b[0m\n\u001b[1;32m    107\u001b[0m             \u001b[0;32mif\u001b[0m \u001b[0;32mnot\u001b[0m \u001b[0mos\u001b[0m\u001b[0;34m.\u001b[0m\u001b[0mpath\u001b[0m\u001b[0;34m.\u001b[0m\u001b[0misfile\u001b[0m\u001b[0;34m(\u001b[0m\u001b[0mconn_info_file\u001b[0m\u001b[0;34m)\u001b[0m\u001b[0;34m:\u001b[0m\u001b[0;34m\u001b[0m\u001b[0;34m\u001b[0m\u001b[0m\n\u001b[0;32m--> 108\u001b[0;31m                 \u001b[0;32mraise\u001b[0m \u001b[0mException\u001b[0m\u001b[0;34m(\u001b[0m\u001b[0;34m\"Java gateway process exited before sending its port number\"\u001b[0m\u001b[0;34m)\u001b[0m\u001b[0;34m\u001b[0m\u001b[0;34m\u001b[0m\u001b[0m\n\u001b[0m\u001b[1;32m    109\u001b[0m \u001b[0;34m\u001b[0m\u001b[0m\n\u001b[1;32m    110\u001b[0m             \u001b[0;32mwith\u001b[0m \u001b[0mopen\u001b[0m\u001b[0;34m(\u001b[0m\u001b[0mconn_info_file\u001b[0m\u001b[0;34m,\u001b[0m \u001b[0;34m\"rb\"\u001b[0m\u001b[0;34m)\u001b[0m \u001b[0;32mas\u001b[0m \u001b[0minfo\u001b[0m\u001b[0;34m:\u001b[0m\u001b[0;34m\u001b[0m\u001b[0;34m\u001b[0m\u001b[0m\n",
      "\u001b[0;31mException\u001b[0m: Java gateway process exited before sending its port number"
     ]
    }
   ],
   "source": [
    "from pyspark.sql import SparkSession\n",
    "spark= SparkSession.builder.appName('Customers').getOrCreate()"
   ]
  },
  {
   "cell_type": "code",
   "execution_count": 2,
   "metadata": {},
   "outputs": [],
   "source": [
    "from pyspark.ml.regression import LinearRegression"
   ]
  },
  {
   "cell_type": "code",
   "execution_count": 3,
   "metadata": {},
   "outputs": [],
   "source": [
    "dataset=spark.read.csv(\"Ecommerce_Customers.csv\",inferSchema=True,header=True)"
   ]
  },
  {
   "cell_type": "code",
   "execution_count": 4,
   "metadata": {},
   "outputs": [
    {
     "data": {
      "text/plain": [
       "DataFrame[Email: string, Address: string, Avg Session Length: double, Time on App: double, Time on Website: double, Length of Membership: double, Yearly Amount Spent: double]"
      ]
     },
     "execution_count": 4,
     "metadata": {},
     "output_type": "execute_result"
    }
   ],
   "source": [
    "dataset"
   ]
  },
  {
   "cell_type": "code",
   "execution_count": 7,
   "metadata": {},
   "outputs": [
    {
     "name": "stdout",
     "output_type": "stream",
     "text": [
      "+--------------------+--------------------+------------------+-----------+---------------+--------------------+-------------------+\n",
      "|               Email|             Address|Avg Session Length|Time on App|Time on Website|Length of Membership|Yearly Amount Spent|\n",
      "+--------------------+--------------------+------------------+-----------+---------------+--------------------+-------------------+\n",
      "|mstephenson@ferna...|835 Frank TunnelW...|       34.49726773|12.65565115|    39.57766802|         4.082620633|         587.951054|\n",
      "|   hduke@hotmail.com|4547 Archer Commo...|       31.92627203|11.10946073|    37.26895887|         2.664034182|        392.2049334|\n",
      "|    pallen@yahoo.com|24645 Valerie Uni...|       33.00091476|11.33027806|    37.11059744|         4.104543202|        487.5475049|\n",
      "|riverarebecca@gma...|1414 David Throug...|       34.30555663|13.71751367|    36.72128268|         3.120178783|         581.852344|\n",
      "|mstephens@davidso...|14023 Rodriguez P...|       33.33067252|12.79518855|     37.5366533|         4.446308318|         599.406092|\n",
      "|alvareznancy@luca...|645 Martha Park A...|       33.87103788|12.02692534|    34.47687763|         5.493507201|        637.1024479|\n",
      "|katherine20@yahoo...|68388 Reyes Light...|        32.0215955|11.36634831|    36.68377615|         4.685017247|        521.5721748|\n",
      "|  awatkins@yahoo.com|Unit 6538 Box 898...|       32.73914294|12.35195897|    37.37335886|         4.434273435|        549.9041461|\n",
      "|vchurch@walter-ma...|860 Lee KeyWest D...|        33.9877729|13.38623528|    37.53449734|         3.273433578|         570.200409|\n",
      "|    bonnie69@lin.biz|PSC 2734, Box 525...|       31.93654862|11.81412829|    37.14516822|         3.202806072|        427.1993849|\n",
      "|andrew06@peterson...|26104 Alexander G...|       33.99257277|13.33897545|    37.22580613|         2.482607771|        492.6060127|\n",
      "|ryanwerner@freema...|Unit 2413 Box 034...|       33.87936082|  11.584783|    37.08792607|         3.713209203|        522.3374046|\n",
      "|   knelson@gmail.com|6705 Miller Orcha...|       29.53242897| 10.9612984|    37.42021558|         4.046423164|        408.6403511|\n",
      "|wrightpeter@yahoo...|05302 Dunlap Ferr...|       33.19033404|12.95922609|     36.1446667|         3.918541839|        573.4158673|\n",
      "|taylormason@gmail...|7773 Powell Sprin...|       32.38797585|13.14872569|    36.61995708|         2.494543647|        470.4527333|\n",
      "| jstark@anderson.com|49558 Ramirez Roa...|       30.73772037|12.63660605|    36.21376309|         3.357846842|        461.7807422|\n",
      "| wjennings@gmail.com|6362 Wilson Mount...|        32.1253869|11.73386169|    34.89409275|         3.136132716|        457.8476959|\n",
      "|rebecca45@hale-ba...|8982 Burton RowWi...|       32.33889932|12.01319469|    38.38513659|         2.420806161|        407.7045475|\n",
      "|alejandro75@hotma...|64475 Andre Club ...|       32.18781205|14.71538754|    38.24411459|         1.516575581|        452.3156755|\n",
      "|samuel46@love-wes...|544 Alexander Hei...|       32.61785606|13.98959256|     37.1905038|          4.06454855|        605.0610388|\n",
      "+--------------------+--------------------+------------------+-----------+---------------+--------------------+-------------------+\n",
      "only showing top 20 rows\n",
      "\n"
     ]
    }
   ],
   "source": [
    "dataset.show()"
   ]
  },
  {
   "cell_type": "code",
   "execution_count": 8,
   "metadata": {},
   "outputs": [
    {
     "name": "stdout",
     "output_type": "stream",
     "text": [
      "root\n",
      " |-- Email: string (nullable = true)\n",
      " |-- Address: string (nullable = true)\n",
      " |-- Avg Session Length: double (nullable = true)\n",
      " |-- Time on App: double (nullable = true)\n",
      " |-- Time on Website: double (nullable = true)\n",
      " |-- Length of Membership: double (nullable = true)\n",
      " |-- Yearly Amount Spent: double (nullable = true)\n",
      "\n"
     ]
    }
   ],
   "source": [
    "dataset.printSchema()"
   ]
  },
  {
   "cell_type": "code",
   "execution_count": null,
   "metadata": {},
   "outputs": [],
   "source": [
    "sklearn\n",
    "\n",
    "x1,X2,X3,X4,X5    Y1 ---->model-->prediction\n",
    "\n",
    "[X1,X2,X3,X4,X5]  Y1---->model--->prediction"
   ]
  },
  {
   "cell_type": "code",
   "execution_count": 9,
   "metadata": {},
   "outputs": [],
   "source": [
    "from pyspark.ml.linalg import Vectors\n",
    "from pyspark.ml.feature import VectorAssembler"
   ]
  },
  {
   "cell_type": "code",
   "execution_count": 11,
   "metadata": {},
   "outputs": [],
   "source": [
    "featureassembler=VectorAssembler(inputCols=[\"Avg Session Length\",\"Time on App\",\"Time on Website\",\"Length of Membership\"],outputCol=\"Independent Features\")"
   ]
  },
  {
   "cell_type": "code",
   "execution_count": 14,
   "metadata": {},
   "outputs": [],
   "source": [
    "output=featureassembler.transform(dataset)"
   ]
  },
  {
   "cell_type": "code",
   "execution_count": 15,
   "metadata": {},
   "outputs": [
    {
     "name": "stdout",
     "output_type": "stream",
     "text": [
      "+--------------------+--------------------+------------------+-----------+---------------+--------------------+-------------------+--------------------+\n",
      "|               Email|             Address|Avg Session Length|Time on App|Time on Website|Length of Membership|Yearly Amount Spent|Independent Features|\n",
      "+--------------------+--------------------+------------------+-----------+---------------+--------------------+-------------------+--------------------+\n",
      "|mstephenson@ferna...|835 Frank TunnelW...|       34.49726773|12.65565115|    39.57766802|         4.082620633|         587.951054|[34.49726773,12.6...|\n",
      "|   hduke@hotmail.com|4547 Archer Commo...|       31.92627203|11.10946073|    37.26895887|         2.664034182|        392.2049334|[31.92627203,11.1...|\n",
      "|    pallen@yahoo.com|24645 Valerie Uni...|       33.00091476|11.33027806|    37.11059744|         4.104543202|        487.5475049|[33.00091476,11.3...|\n",
      "|riverarebecca@gma...|1414 David Throug...|       34.30555663|13.71751367|    36.72128268|         3.120178783|         581.852344|[34.30555663,13.7...|\n",
      "|mstephens@davidso...|14023 Rodriguez P...|       33.33067252|12.79518855|     37.5366533|         4.446308318|         599.406092|[33.33067252,12.7...|\n",
      "|alvareznancy@luca...|645 Martha Park A...|       33.87103788|12.02692534|    34.47687763|         5.493507201|        637.1024479|[33.87103788,12.0...|\n",
      "|katherine20@yahoo...|68388 Reyes Light...|        32.0215955|11.36634831|    36.68377615|         4.685017247|        521.5721748|[32.0215955,11.36...|\n",
      "|  awatkins@yahoo.com|Unit 6538 Box 898...|       32.73914294|12.35195897|    37.37335886|         4.434273435|        549.9041461|[32.73914294,12.3...|\n",
      "|vchurch@walter-ma...|860 Lee KeyWest D...|        33.9877729|13.38623528|    37.53449734|         3.273433578|         570.200409|[33.9877729,13.38...|\n",
      "|    bonnie69@lin.biz|PSC 2734, Box 525...|       31.93654862|11.81412829|    37.14516822|         3.202806072|        427.1993849|[31.93654862,11.8...|\n",
      "|andrew06@peterson...|26104 Alexander G...|       33.99257277|13.33897545|    37.22580613|         2.482607771|        492.6060127|[33.99257277,13.3...|\n",
      "|ryanwerner@freema...|Unit 2413 Box 034...|       33.87936082|  11.584783|    37.08792607|         3.713209203|        522.3374046|[33.87936082,11.5...|\n",
      "|   knelson@gmail.com|6705 Miller Orcha...|       29.53242897| 10.9612984|    37.42021558|         4.046423164|        408.6403511|[29.53242897,10.9...|\n",
      "|wrightpeter@yahoo...|05302 Dunlap Ferr...|       33.19033404|12.95922609|     36.1446667|         3.918541839|        573.4158673|[33.19033404,12.9...|\n",
      "|taylormason@gmail...|7773 Powell Sprin...|       32.38797585|13.14872569|    36.61995708|         2.494543647|        470.4527333|[32.38797585,13.1...|\n",
      "| jstark@anderson.com|49558 Ramirez Roa...|       30.73772037|12.63660605|    36.21376309|         3.357846842|        461.7807422|[30.73772037,12.6...|\n",
      "| wjennings@gmail.com|6362 Wilson Mount...|        32.1253869|11.73386169|    34.89409275|         3.136132716|        457.8476959|[32.1253869,11.73...|\n",
      "|rebecca45@hale-ba...|8982 Burton RowWi...|       32.33889932|12.01319469|    38.38513659|         2.420806161|        407.7045475|[32.33889932,12.0...|\n",
      "|alejandro75@hotma...|64475 Andre Club ...|       32.18781205|14.71538754|    38.24411459|         1.516575581|        452.3156755|[32.18781205,14.7...|\n",
      "|samuel46@love-wes...|544 Alexander Hei...|       32.61785606|13.98959256|     37.1905038|          4.06454855|        605.0610388|[32.61785606,13.9...|\n",
      "+--------------------+--------------------+------------------+-----------+---------------+--------------------+-------------------+--------------------+\n",
      "only showing top 20 rows\n",
      "\n"
     ]
    }
   ],
   "source": [
    "output.show()"
   ]
  },
  {
   "cell_type": "code",
   "execution_count": 16,
   "metadata": {},
   "outputs": [
    {
     "name": "stdout",
     "output_type": "stream",
     "text": [
      "+--------------------+\n",
      "|Independent Features|\n",
      "+--------------------+\n",
      "|[34.49726773,12.6...|\n",
      "|[31.92627203,11.1...|\n",
      "|[33.00091476,11.3...|\n",
      "|[34.30555663,13.7...|\n",
      "|[33.33067252,12.7...|\n",
      "|[33.87103788,12.0...|\n",
      "|[32.0215955,11.36...|\n",
      "|[32.73914294,12.3...|\n",
      "|[33.9877729,13.38...|\n",
      "|[31.93654862,11.8...|\n",
      "|[33.99257277,13.3...|\n",
      "|[33.87936082,11.5...|\n",
      "|[29.53242897,10.9...|\n",
      "|[33.19033404,12.9...|\n",
      "|[32.38797585,13.1...|\n",
      "|[30.73772037,12.6...|\n",
      "|[32.1253869,11.73...|\n",
      "|[32.33889932,12.0...|\n",
      "|[32.18781205,14.7...|\n",
      "|[32.61785606,13.9...|\n",
      "+--------------------+\n",
      "only showing top 20 rows\n",
      "\n"
     ]
    }
   ],
   "source": [
    "output.select(\"Independent Features\").show()"
   ]
  },
  {
   "cell_type": "code",
   "execution_count": 17,
   "metadata": {},
   "outputs": [
    {
     "data": {
      "text/plain": [
       "['Email',\n",
       " 'Address',\n",
       " 'Avg Session Length',\n",
       " 'Time on App',\n",
       " 'Time on Website',\n",
       " 'Length of Membership',\n",
       " 'Yearly Amount Spent',\n",
       " 'Independent Features']"
      ]
     },
     "execution_count": 17,
     "metadata": {},
     "output_type": "execute_result"
    }
   ],
   "source": [
    "output.columns"
   ]
  },
  {
   "cell_type": "code",
   "execution_count": 18,
   "metadata": {},
   "outputs": [],
   "source": [
    "finalized_data=output.select(\"Independent Features\",\"Yearly Amount Spent\")"
   ]
  },
  {
   "cell_type": "code",
   "execution_count": 19,
   "metadata": {},
   "outputs": [
    {
     "name": "stdout",
     "output_type": "stream",
     "text": [
      "+--------------------+-------------------+\n",
      "|Independent Features|Yearly Amount Spent|\n",
      "+--------------------+-------------------+\n",
      "|[34.49726773,12.6...|         587.951054|\n",
      "|[31.92627203,11.1...|        392.2049334|\n",
      "|[33.00091476,11.3...|        487.5475049|\n",
      "|[34.30555663,13.7...|         581.852344|\n",
      "|[33.33067252,12.7...|         599.406092|\n",
      "|[33.87103788,12.0...|        637.1024479|\n",
      "|[32.0215955,11.36...|        521.5721748|\n",
      "|[32.73914294,12.3...|        549.9041461|\n",
      "|[33.9877729,13.38...|         570.200409|\n",
      "|[31.93654862,11.8...|        427.1993849|\n",
      "|[33.99257277,13.3...|        492.6060127|\n",
      "|[33.87936082,11.5...|        522.3374046|\n",
      "|[29.53242897,10.9...|        408.6403511|\n",
      "|[33.19033404,12.9...|        573.4158673|\n",
      "|[32.38797585,13.1...|        470.4527333|\n",
      "|[30.73772037,12.6...|        461.7807422|\n",
      "|[32.1253869,11.73...|        457.8476959|\n",
      "|[32.33889932,12.0...|        407.7045475|\n",
      "|[32.18781205,14.7...|        452.3156755|\n",
      "|[32.61785606,13.9...|        605.0610388|\n",
      "+--------------------+-------------------+\n",
      "only showing top 20 rows\n",
      "\n"
     ]
    }
   ],
   "source": [
    "finalized_data.show()"
   ]
  },
  {
   "cell_type": "code",
   "execution_count": 20,
   "metadata": {},
   "outputs": [],
   "source": [
    "train_data,test_data=finalized_data.randomSplit([0.75,0.25])"
   ]
  },
  {
   "cell_type": "code",
   "execution_count": 21,
   "metadata": {},
   "outputs": [],
   "source": [
    "regressor=LinearRegression(featuresCol='Independent Features', labelCol='Yearly Amount Spent')\n",
    "regressor=regressor.fit(train_data)"
   ]
  },
  {
   "cell_type": "code",
   "execution_count": 22,
   "metadata": {},
   "outputs": [
    {
     "data": {
      "text/plain": [
       "DenseVector([25.8831, 38.73, 0.3609, 61.538])"
      ]
     },
     "execution_count": 22,
     "metadata": {},
     "output_type": "execute_result"
    }
   ],
   "source": [
    "regressor.coefficients"
   ]
  },
  {
   "cell_type": "code",
   "execution_count": 23,
   "metadata": {},
   "outputs": [
    {
     "data": {
      "text/plain": [
       "-1053.7033820800536"
      ]
     },
     "execution_count": 23,
     "metadata": {},
     "output_type": "execute_result"
    }
   ],
   "source": [
    "regressor.intercept"
   ]
  },
  {
   "cell_type": "code",
   "execution_count": 24,
   "metadata": {},
   "outputs": [],
   "source": [
    "pred_results=regressor.evaluate(test_data)"
   ]
  },
  {
   "cell_type": "code",
   "execution_count": 26,
   "metadata": {},
   "outputs": [
    {
     "name": "stdout",
     "output_type": "stream",
     "text": [
      "+--------------------+-------------------+------------------+\n",
      "|Independent Features|Yearly Amount Spent|        prediction|\n",
      "+--------------------+-------------------+------------------+\n",
      "|[29.53242897,10.9...|        408.6403511| 397.7314622481499|\n",
      "|[30.39318454,11.8...|        319.9288698| 331.4354817055371|\n",
      "|[30.73772037,12.6...|        461.7807422|451.00378856214934|\n",
      "|[30.83643267,13.1...|        467.5019004| 471.6315593383845|\n",
      "|[31.04722214,11.1...|        392.4973992| 387.6961791855133|\n",
      "|[31.06621816,11.7...|        448.9332932|461.71709673379814|\n",
      "|[31.35847719,12.8...|        495.1759504|491.12482994053585|\n",
      "|[31.38958548,10.9...|        410.0696111| 409.3081755667929|\n",
      "|[31.42522688,13.2...|        530.7667187| 534.6343118465913|\n",
      "|[31.5261979,12.04...|        409.0945262|417.94636309938346|\n",
      "|[31.53160448,13.3...|        436.5156057| 432.7242184024992|\n",
      "|[31.57020083,13.3...|        545.9454921| 563.5592281627285|\n",
      "|[31.62536013,13.1...|        376.3369008|380.96043463635397|\n",
      "|[31.65480968,13.0...|        475.2634237| 468.5507644073118|\n",
      "|[31.7207699,11.75...|        538.7749335| 545.5799494248888|\n",
      "|[31.72420252,13.1...|        503.3878873| 509.5844377330677|\n",
      "|[31.73663569,10.7...|        496.9334463|494.49593917588913|\n",
      "|[31.82934646,11.2...|         385.152338|384.13548659460844|\n",
      "|[31.86274111,14.0...|        556.2981412| 558.1705675935309|\n",
      "|[31.86483255,13.4...|        439.8912805|450.32554539094735|\n",
      "|[32.04781463,12.4...|        497.3895578|480.92538992642835|\n",
      "|[32.05426185,13.1...|        561.8746577| 557.0238791456106|\n",
      "|[32.0609144,12.62...|        627.6033187| 611.0063849335909|\n",
      "|[32.07759004,10.3...|        401.0331352|402.78394552838677|\n",
      "|[32.07894758,12.7...|        357.8637186|352.75949417674406|\n",
      "|[32.08838063,11.9...|        512.1658664| 518.4098285688285|\n",
      "|[32.11511907,11.9...|        350.0582002| 342.1792296532319|\n",
      "|[32.1253869,11.73...|        457.8476959|437.83757808411997|\n",
      "|[32.20465465,12.4...|         478.584286| 478.6402993700408|\n",
      "|[32.21292383,11.7...|        513.1531119| 513.9194131613392|\n",
      "|[32.21552742,12.2...|         438.417742| 445.7372873723375|\n",
      "|[32.22729914,13.7...|        613.5993234| 621.4052644522508|\n",
      "|[32.2559012,10.48...|        479.7319376| 478.3541922043364|\n",
      "|[32.25997327,14.1...|        571.2160048|  573.522899819732|\n",
      "|[32.29964716,12.1...|        547.1109824| 537.9549823334594|\n",
      "|[32.37798966,11.9...|        408.2169018|435.56382374750706|\n",
      "|[32.38696867,12.7...|        508.7719067|504.03454410803056|\n",
      "|[32.39742194,12.0...|        483.7965221|481.15732246538573|\n",
      "|[32.52976873,11.7...|        298.7620079| 305.9121405291926|\n",
      "|[32.53379686,12.2...|        485.9231305|  500.660049606902|\n",
      "+--------------------+-------------------+------------------+\n",
      "only showing top 40 rows\n",
      "\n"
     ]
    }
   ],
   "source": [
    "pred_results.predictions.show(40)"
   ]
  },
  {
   "cell_type": "code",
   "execution_count": null,
   "metadata": {},
   "outputs": [],
   "source": []
  }
 ],
 "metadata": {
  "hide_input": false,
  "kernelspec": {
   "display_name": "Python 3",
   "language": "python",
   "name": "python3"
  },
  "language_info": {
   "codemirror_mode": {
    "name": "ipython",
    "version": 3
   },
   "file_extension": ".py",
   "mimetype": "text/x-python",
   "name": "python",
   "nbconvert_exporter": "python",
   "pygments_lexer": "ipython3",
   "version": "3.8.5"
  }
 },
 "nbformat": 4,
 "nbformat_minor": 2
}
